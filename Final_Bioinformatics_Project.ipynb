{
 "cells": [
  {
   "cell_type": "markdown",
   "metadata": {},
   "source": [
    "# Final Bioinformatics Project\n",
    "\n",
    "## Katelyn, Hannah, Kathleen, and Grant"
   ]
  },
  {
   "cell_type": "markdown",
   "metadata": {},
   "source": [
    "### BLAST\n",
    "\n",
    "- What to do:\n",
    "\n",
    "    + Using Unix commands, create a single table that includes the top hit for each transcript. \n",
    "    \n",
    "    + Save one fasta file of protein sequences per identified transcript (6 total).\n",
    "\n",
    "- The final code for this part of the project is __'tophitsscript.sh'__\n",
    "\n",
    "- The final table for this part of the project is __'tophits.txt'__"
   ]
  },
  {
   "cell_type": "code",
   "execution_count": null,
   "metadata": {
    "collapsed": true
   },
   "outputs": [],
   "source": []
  },
  {
   "cell_type": "markdown",
   "metadata": {},
   "source": [
    "### Translation of RNA Seq Data\n",
    "\n",
    "- What to do:\n",
    "\n",
    "    + Use Python to translate nucleotides to amino acids\n",
    "    \n",
    "    + __READ__ _codonmap.txt_ and nucleotide file you are translating\n",
    "    \n",
    "    + __WRITE__ to a fasta file the translated amino acid sequences\n",
    "    \n",
    "    + Use this code in a for loop to translate all four files of RNAseq data"
   ]
  },
  {
   "cell_type": "code",
   "execution_count": 2,
   "metadata": {},
   "outputs": [
    {
     "name": "stdout",
     "output_type": "stream",
     "text": [
      "Usage: python Translate_RNA_SCript.py fasta1 fasta2... fastan\n"
     ]
    },
    {
     "ename": "SystemExit",
     "evalue": "",
     "output_type": "error",
     "traceback": [
      "An exception has occurred, use %tb to see the full traceback.\n",
      "\u001b[1;31mSystemExit\u001b[0m\n"
     ]
    },
    {
     "name": "stderr",
     "output_type": "stream",
     "text": [
      "C:\\Users\\knicho4\\Anaconda2\\lib\\site-packages\\IPython\\core\\interactiveshell.py:2889: UserWarning: To exit: use 'exit', 'quit', or Ctrl-D.\n",
      "  warn(\"To exit: use 'exit', 'quit', or Ctrl-D.\", stacklevel=1)\n"
     ]
    }
   ],
   "source": [
    "#import packages\n",
    "from __future__ import print_function\n",
    "import sys\n",
    "\n",
    "#open file codonmap and store it as a dictionary under the variable name \"d\"\n",
    "d = {}\n",
    "with open('codonmap.txt', 'r') as csv_file: # Soudn't open as binary, ASCII is fine.\n",
    "    for line in csv_file:\n",
    "        aa, codon = line.split() # Don't need parentheses for simultaneous assignment\n",
    "        d[codon] = aa\n",
    "\n",
    "def translate(codex, fasta):\n",
    "    \"\"\"\n",
    "    When passed a full fasta file split by line (i.e. file.read().split()),\n",
    "    this function translates DNA to Protein up to an\n",
    "    Amber (TAG), Ochre (TAA), or Umber (TGA) stop codon.\n",
    "    Returns a list of tab delimited NAME-SEQUENCE pairs.\n",
    "    \"\"\"\n",
    "    sequences = [] # sequential list of protein sequences\n",
    "    sequence_names = []\n",
    "    for i, item in enumerate(fasta.read().split()):\n",
    "        protein = '' # translated protein sequence\n",
    "        if i%2 == 0: # if index is even\n",
    "            sequence_names.append(item)\n",
    "        else:\n",
    "            started = False\n",
    "            for j in range(0, len(item), 3):\n",
    "                res = codex[item[j:j+3]]\n",
    "                if res == 'M' and not started:\n",
    "                    started = True\n",
    "                    continue\n",
    "                if started:\n",
    "                    if res == 'Stop':\n",
    "                        break\n",
    "                    else:\n",
    "                        protein += res\n",
    "            sequences.append(protein)\n",
    "    return '\\n'.join(['{0}\\n{1}\\n'.format(sequence_names[p], sequences[p]) for p in range(len(sequences))])\n",
    "\n",
    "if __name__ == '__main__':\n",
    "    #read transcript fasta files\n",
    "    try:\n",
    "        condition_list = sys.argv[1:]\n",
    "    \tif not condition_list:\n",
    "        \tprint('Usage: python Translate_RNA_SCript.py fasta1 fasta2... fastan')\n",
    "        \tsys.exit()\n",
    "        for condition in condition_list:\n",
    "        \twith open('%s.fasta'%condition, 'r') as inFile, \\\n",
    "\t        open('%sprotein.fasta'%condition, 'w') as outFile:\n",
    "        \t    outFile.write(translate(d, inFile))\n",
    "    except IOError:\n",
    "       \tprint('Usage: python Translate_RNA_SCript.py fasta1 fasta2... fastan')\n",
    "       \tsys.exit()"
   ]
  },
  {
   "cell_type": "markdown",
   "metadata": {},
   "source": [
    "### Hidden Markov Models\n",
    "\n",
    "- What to do:\n",
    "\n",
    "    + Use __muscle__ to make an alignment for downloaded protein sequences and translated RNAseq data\n",
    "    \n",
    "    + Use __hmmbuild__ to construct six protein models\n",
    "    \n",
    "    + Use __hmmsearch__ to search the translated RNAseq files for each of the protein models made\n",
    "    \n",
    "    + Use a bash script to loop over the transcript files and RNAseq files\n",
    "\n",
    "- Final code for this part is in __'muscle_hmm_script.sh'__\n",
    "\n",
    "- Final files for this part are __''__"
   ]
  },
  {
   "cell_type": "markdown",
   "metadata": {},
   "source": [
    "### Graphing of \"expression levels\"\n",
    "\n",
    "- What to do:\n",
    "\n",
    "    + Graph the counts of the hmm hits for each transcript [our measure of RNA expression] in each RNAseq file\n",
    "    \n",
    "    + Compare the expression levels across the 2 normal and 2 obese mice\n",
    "    \n",
    "    + Qualitatively compare our results to those reported in Kuhns & Pluznick (2017)"
   ]
  },
  {
   "cell_type": "markdown",
   "metadata": {},
   "source": [
    "- Comparison between our graph and Kuhns&Pluznick (2017)\n",
    "\n",
    "    + Synpr - We were able to recapitulate the data presented by Kuhns&Pluznick (2017). Expression of this gene increased in obese mice compared to the control mice according to RNAseq data.\n",
    "    \n",
    "    + Slc7a12 - We were able to recapitulate the data presented by Kuhns&Pluznick (2017). Expression of this gene stayed relatively the same between obese and control mice according to RNAseq data.\n",
    "    \n",
    "    + Ptpn5 - Our data suggested that gene expression remained relatively the same, but the data in Kuhns&Pluznick suggested a 10-fold increase in expression in obese mice.\n",
    "    \n",
    "    + Lhx2 - We were able to recapitulate the data presented by Kuhns&Pluznick (2017). Expression of this gene increased in obese mice compared to the control mice according to RNAseq data.\n",
    "    \n",
    "    + Gsta2 - Our data suggested that gene expression decreased significantly in obese mice compared to control mice, but the data in Kuhns&Pluznick suggested expression remained relatively the same between obese and control mice.\n",
    "    \n",
    "    + Atp12a - We were able to recapitulate the data presented by Kuhns&Pluznick (2017). Expression of this gene increased in obese mice compared to the control mice according to RNAseq data."
   ]
  },
  {
   "cell_type": "markdown",
   "metadata": {},
   "source": [
    "### Further Exploration\n",
    "\n",
    "1. What to do:\n",
    "\n",
    "    + For 2-3 of the 6 transcripts, return to the original BLAST search and change the _Optimize for_ option. It might be eaiser to explore if you also restrict the _Database_ option to either human or mouse\n",
    "    \n",
    "    + How do _discontinuous megablast_ and _blastn_ change your table of BLAST hits?\n",
    "    \n",
    "        + _uniquetranscripts.fasta_ with _Mouse genomic + transcript_ database and _discontiguous megablast_\n",
    "        \n",
    "        + _uniquetranscripts.fasta_ with _Mouse genomic + transcript_ database and _blastn_\n",
    "        \n",
    "        + __Answer__: Since we are using RNAseq data from mice, using the _Mouse genomic + transcript_ option gives us sequences from BLAST that are more closely related to the sequences we search. However, when we change the optimization our results differ. When we optimize for _discontiguous megablast_, the BLAST results were more variable - we didn't have as phylogenetically close matches as we did with the _megablast_. The trend was even more dramatic when we optimized using _blastn_. This search allowed for very small contig matches that were more phylogenetically distant to our RNAseq data.\n",
    "    \n",
    "2. What to do:\n",
    "\n",
    "    + For 2-3 of the 6 trnascripts, return to NCBI protein search and explore the effects of phylogenetic relatedness of your amino acid sequences on the performance of your HMM model\n",
    "    \n",
    "    + What would happen if you built your HMM protein model using more distantly related mammals (ex primates)? Would you still get the same quality of hits if your HMM protein model was based on non-mammalian sequences?\n",
    "    \n",
    "        + __Answer:__ When completing alignments, there is a basic assumption that all sequences you are using are related (ie 'descended from a common ancestor'). As you include more distantly related organisms, you would assume that the hits would decrease in quality - there would be more gaps, insertions, deletions, etc. - which would alter how the HMM model would function. However, this is contingent upon what gene/protein you are looking at: a highly conserved gene may not have very many mutations, so you still get high-quality hits when using distantly related organisms.\n",
    "    \n",
    "    + Pick one of the RNAseq files to search in order to test your hypotheses. Compate e-values among HMMs built from differing taxa.\n",
    "    \n",
    "        + __Answer__ We used the Atp12a transcript with a primate model and a non-mammalian model. The Atp12a gene codes for an ATPase, so we would assume that the gene would be conserved due to its importance. When we built the HMM model using primates, we got an e-value of 0. When we built the HMM model using non-mammals, the e-value was still 0. This makes sense because of how conserved we believe the gene should be."
   ]
  }
 ],
 "metadata": {
  "kernelspec": {
   "display_name": "Python 2",
   "language": "python",
   "name": "python2"
  },
  "language_info": {
   "codemirror_mode": {
    "name": "ipython",
    "version": 2
   },
   "file_extension": ".py",
   "mimetype": "text/x-python",
   "name": "python",
   "nbconvert_exporter": "python",
   "pygments_lexer": "ipython2",
   "version": "2.7.13"
  }
 },
 "nbformat": 4,
 "nbformat_minor": 2
}
