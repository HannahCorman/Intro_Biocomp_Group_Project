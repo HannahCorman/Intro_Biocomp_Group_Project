{
 "cells": [
  {
   "cell_type": "markdown",
   "metadata": {},
   "source": [
    "# Final Bioinformatics Project\n",
    "\n",
    "## Katelyn, Hannah, Kathleen, and Grant"
   ]
  },
  {
   "cell_type": "markdown",
   "metadata": {},
   "source": [
    "### BLAST\n",
    "\n",
    "- What to do:\n",
    "\n",
    "    + Using Unix commands, create a single table that includes the top hit for each transcript. \n",
    "    \n",
    "    + Save one fasta file of protein sequences per identified transcript (6 total).\n",
    "\n",
    "- The final code for this part of the project is __'tophitsscript.sh'__\n",
    "\n",
    "- The final table for this part of the project is __'tophits.txt'__"
   ]
  },
  {
   "cell_type": "markdown",
   "metadata": {},
   "source": [
    "### Translation of RNA Seq Data\n",
    "\n",
    "- What to do:\n",
    "\n",
    "    + Use Python to translate nucleotides to amino acids\n",
    "    \n",
    "    + __READ__ _codonmap.txt_ and nucleotide file you are translating\n",
    "    \n",
    "    + __WRITE__ to a fasta file the translated amino acid sequences\n",
    "    \n",
    "    + Use this code in a for loop to translate all four files of RNAseq data"
   ]
  },
  {
   "cell_type": "code",
   "execution_count": 1,
   "metadata": {
    "collapsed": true
   },
   "outputs": [],
   "source": [
    "#import packages\n",
    "from __future__ import print_function\n",
    "import csv\n",
    "import os\n",
    "import pandas\n",
    "import numpy\n",
    "\n",
    "#open codonmap.txt and store it as a dictionary under the variable name 'd'\n",
    "d = {}\n",
    "with open('codonmap.txt', 'r') as csv_file:\n",
    "    for line in csv_file:\n",
    "        aa, codon = line.split()\n",
    "        d[codon] = aa\n",
    "        \n",
    "#for loop through files\n",
    "def translate(codex, fasta):\n",
    "    sequences = [] # sequential list of protein sequences\n",
    "    sequence_names = []\n",
    "    for i, item in enumerate(fasta): # loops over list, list items\n",
    "        protein = '' # translated protein sequence\n",
    "        if i%2 == 0: # if index is even\n",
    "            sequence_names.append(item)\n",
    "        else:\n",
    "            for j in range(0, len(item), 3):\n",
    "                res = codex[item[j:j+3]]\n",
    "                if res == 'Stop':\n",
    "                    break\n",
    "                else:\n",
    "                    protein += res\n",
    "            sequences.append(protein)\n",
    "    return ['{0}\\n{1}'.format(sequence_names[p], sequences[p]) for p in range(len(sequences))]\n",
    "\n",
    "#create protein.fasta files\n",
    "if __name__ == '__main__':\n",
    "    #read transcript fasta files\n",
    "    control1 = open('control1.fasta', 'r')\n",
    "    control2 = open('control2.fasta', 'r')\n",
    "    obese1 = open('obese1.fasta', 'r')\n",
    "    obese2 = open('obese2.fasta', 'r')\n",
    "    #creates and opens files to write\n",
    "    control1protein = open('control1protein.fasta', 'w')\n",
    "    control2protein = open('control2protein.fasta', 'w')\n",
    "    obese1protein = open('obese1protein.fasta', 'w')\n",
    "    obese2protein = open('obese2protein.fasta', 'w')\n",
    "    #writes the translated nucleotides to the outfiles\n",
    "    control1protein.write('\\n'.join(translate(d, control1.read().split())))\n",
    "    control2protein.write('\\n'.join(translate(d, control2.read().split())))\n",
    "    obese1protein.write('\\n'.join(translate(d, obese1.read().split())))\n",
    "    obese2protein.write('\\n'.join(translate(d, obese2.read().split())))\n",
    "    #closes files\n",
    "    control1.close\n",
    "    control2.close\n",
    "    obese1.close\n",
    "    obese2.close\n",
    "    control1protein.close\n",
    "    control2protein.close\n",
    "    obese1protein.close\n",
    "    obese2protein.close"
   ]
  },
  {
   "cell_type": "markdown",
   "metadata": {},
   "source": [
    "### Hidden Markov Models\n",
    "\n",
    "- What to do:\n",
    "\n",
    "    + Use __muscle__ to make an alignment for downloaded protein sequences and translated RNAseq data\n",
    "    \n",
    "    + Use __hmmbuild__ to construct six protein models\n",
    "    \n",
    "    + Use __hmmsearch__ to search the translated RNAseq files for each of the protein models made\n",
    "    \n",
    "    + Use a bash script to loop over the transcript files and RNAseq files\n",
    "\n",
    "- Final code for this part is in __'muscle_hmm_script.sh'__\n",
    "\n",
    "- Final files for this part are __''__"
   ]
  },
  {
   "cell_type": "markdown",
   "metadata": {},
   "source": [
    "### Graphing of \"expression levels\"\n",
    "\n",
    "- What to do:\n",
    "\n",
    "    + Graph the counts of the hmm hits for each transcript [our measure of RNA expression] in each RNAseq file\n",
    "    \n",
    "    + Compare the expression levels across the 2 normal and 2 obese mice\n",
    "    \n",
    "    + Qualitatively compare our results to those reported in Kuhns & Pluznick (2017)"
   ]
  },
  {
   "cell_type": "markdown",
   "metadata": {},
   "source": [
    "### Further Exploration\n",
    "\n",
    "1. What to do:\n",
    "\n",
    "    + For 2-3 of the 6 transcripts, return to the original BLAST search and change the _Optimize for_ option. It might be eaiser to explore if you also restrict the _Database_ option to either human or mouse\n",
    "    \n",
    "    + How do _discontinuous megablast_ and _blastn_ change your table of BLAST hits?\n",
    "    \n",
    "        + _uniquetranscripts.fasta_ with _Mouse genomic + transcript_ database and _discontiguous megablast_\n",
    "        \n",
    "        + _uniquetranscripts.fasta_ with _Mouse genomic + transcript_ database and _blastn_\n",
    "    \n",
    "2. What to do:\n",
    "\n",
    "    + For 2-3 of the 6 trnascripts, return to NCBI protein search and explore the effects of phylogenetic relatedness of your amino acid sequences on the performance of your HMM model\n",
    "    \n",
    "    + What would happen if you built your HMM protein model using more distantly related mammals (ex primates)? Would you still get the same quality of hits if your HMM protein model was based on non-mammalian sequences? \n",
    "    \n",
    "    + Pick one of the RNAseq files to search in order to test your hypotheses. Compate e-values among HMMs built from differing taxa."
   ]
  }
 ],
 "metadata": {
  "kernelspec": {
   "display_name": "Python 2",
   "language": "python",
   "name": "python2"
  },
  "language_info": {
   "codemirror_mode": {
    "name": "ipython",
    "version": 2
   },
   "file_extension": ".py",
   "mimetype": "text/x-python",
   "name": "python",
   "nbconvert_exporter": "python",
   "pygments_lexer": "ipython2",
   "version": "2.7.13"
  }
 },
 "nbformat": 4,
 "nbformat_minor": 2
}
