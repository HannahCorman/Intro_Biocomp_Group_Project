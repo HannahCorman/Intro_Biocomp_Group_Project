{
 "cells": [
  {
   "cell_type": "markdown",
   "metadata": {},
   "source": [
    "# Project Plan"
   ]
  },
  {
   "cell_type": "markdown",
   "metadata": {},
   "source": [
    "### BLAST\n",
    "\n",
    "- <s>Using Unix commands, create a single table that includes the top hit for each transcript</s>\n",
    "\n",
    "    -pseudocode: loop through transcript files, write head n -1 for top hit to new file (tophits.txt)\n",
    "    \n",
    "\n",
    "- <s>Save one fasta file of protein sequences per identified transcript (6 total)</s>"
   ]
  },
  {
   "cell_type": "markdown",
   "metadata": {},
   "source": [
    "### Translation of RNA Seq Data\n",
    "\n",
    "- Use a Python script to translate nucleotides to amino acids\n",
    "\n",
    "- __READ__ *codonmap.txt* and nucleotide file you are translating\n",
    "\n",
    "- __WRITE__ to a fasta file the translated amino acid sequences\n",
    "\n",
    "- You may use a regex or you may count by 3's from the beginning of the sequence\n",
    "\n",
    "- Use this code in a for loop to translate all four files of RNAseq data"
   ]
  },
  {
   "cell_type": "code",
   "execution_count": 1,
   "metadata": {
    "collapsed": true
   },
   "outputs": [],
   "source": [
    "#Pseudocode for translating RNA seq data\n",
    "\n",
    "#import needed packages\n",
    "import pandas\n",
    "import os\n",
    "import numpy\n",
    "import csv\n",
    "\n",
    "#create dictionary to store info from codonmap.txt\n",
    "#open file and store it as a dictionary under the variable name 'd'\n",
    "\n",
    "#define a for loop to translate sequences\n",
    "#create an empty list for protein sequences and an empty list for protein sequence names\n",
    "#make sure that the output is in fasta format (for hmmer and muscle)"
   ]
  },
  {
   "cell_type": "markdown",
   "metadata": {},
   "source": [
    "### Hidden Markov Models\n",
    "\n",
    "Use muscle to make an alignment for downloaded protein sequences from translated nucleotide sequences and translated RNAseq data\n",
    "\n",
    "Pseudo-code:\n",
    "\n",
    "    #Use a bash script to loop over files\n",
    "    \n",
    "    for sequence in *.fasta\n",
    "    \n",
    "    ./muscle -in $sequence.fasta -out $sequence.align #path for muscle may be different depending on where binaries are\n",
    "    \n",
    "\n",
    "Use hmmbuild binary to construct six HMM protein models\n",
    "\n",
    "Use hmmsearch to search translated RNAseq files "
   ]
  },
  {
   "cell_type": "markdown",
   "metadata": {},
   "source": [
    "### Employing HMM Searching"
   ]
  },
  {
   "cell_type": "markdown",
   "metadata": {},
   "source": [
    "### Graph Gene Expression\n",
    "\n",
    "- This section is based on the count of hmm hits for each transcript\n",
    "\n",
    "- Make a graphical comparison of expression levels comparing the 2 normal and 2 obese models\n",
    "    \n",
    "- Qualitatively compare these results to those reported in Kuhns&Pluznick (2017)    "
   ]
  }
 ],
 "metadata": {
  "kernelspec": {
   "display_name": "Python 2",
   "language": "python",
   "name": "python2"
  },
  "language_info": {
   "codemirror_mode": {
    "name": "ipython",
    "version": 2
   },
   "file_extension": ".py",
   "mimetype": "text/x-python",
   "name": "python",
   "nbconvert_exporter": "python",
   "pygments_lexer": "ipython2",
   "version": "2.7.13"
  }
 },
 "nbformat": 4,
 "nbformat_minor": 2
}
