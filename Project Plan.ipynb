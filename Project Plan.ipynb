{
 "cells": [
  {
   "cell_type": "markdown",
   "metadata": {},
   "source": [
    "# Project Plan"
   ]
  },
  {
   "cell_type": "markdown",
   "metadata": {},
   "source": [
    "### BLAST\n",
    "\n",
    "- Create a single table that includes the top hit for each transcript\n",
    "\n",
    "- Save one fasta file of protein sequences per identified transcript (6 total)"
   ]
  },
  {
   "cell_type": "markdown",
   "metadata": {},
   "source": [
    "### Translation of RNA Seq Data"
   ]
  },
  {
   "cell_type": "markdown",
   "metadata": {},
   "source": [
    "### Hidden Markov Models\n",
    "\n",
    "Use muscle to make an alignment for downloaded protein sequences from translated nucleotide sequences\n",
    "\n",
    "Use hmmbuild binary to construct six HMM protein models\n",
    "\n",
    "Use hmmsearch to search translated RNAseq files "
   ]
  },
  {
   "cell_type": "markdown",
   "metadata": {},
   "source": [
    "### Employing HMM Searching"
   ]
  },
  {
   "cell_type": "markdown",
   "metadata": {},
   "source": [
    "### Graph Gene Expression\n",
    "\n",
    "- This section is based on the count of hmm hits for each transcript\n",
    "\n",
    "- Make a graphical comparison of expression levels comparing the 2 normal and 2 obese models\n",
    "    \n",
    "- Qualitatively compare these results to those reported in Kuhns&Pluznick (2017)    "
   ]
  }
 ],
 "metadata": {
  "kernelspec": {
   "display_name": "Python 2",
   "language": "python",
   "name": "python2"
  },
  "language_info": {
   "codemirror_mode": {
    "name": "ipython",
    "version": 2
   },
   "file_extension": ".py",
   "mimetype": "text/x-python",
   "name": "python",
   "nbconvert_exporter": "python",
   "pygments_lexer": "ipython2",
   "version": "2.7.13"
  }
 },
 "nbformat": 4,
 "nbformat_minor": 2
}
